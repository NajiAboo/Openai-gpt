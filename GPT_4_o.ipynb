{
  "nbformat": 4,
  "nbformat_minor": 0,
  "metadata": {
    "colab": {
      "provenance": []
    },
    "kernelspec": {
      "name": "python3",
      "display_name": "Python 3"
    },
    "language_info": {
      "name": "python"
    }
  },
  "cells": [
    {
      "cell_type": "code",
      "execution_count": null,
      "metadata": {
        "id": "ssZbdFFLZ0vF"
      },
      "outputs": [],
      "source": [
        "from google.colab import userdata"
      ]
    },
    {
      "cell_type": "code",
      "source": [
        "openai_api_key = userdata.get(\"OPENAI_API_KEY\")"
      ],
      "metadata": {
        "id": "9Q0_nBLJZ8XV"
      },
      "execution_count": null,
      "outputs": []
    },
    {
      "cell_type": "code",
      "source": [
        "%pip install --upgrade openai --quiet"
      ],
      "metadata": {
        "colab": {
          "base_uri": "https://localhost:8080/"
        },
        "id": "zfZtoeETaBvz",
        "outputId": "cfcfcfd4-f417-4db9-c214-c8aa1f1f7b1e"
      },
      "execution_count": null,
      "outputs": [
        {
          "output_type": "stream",
          "name": "stdout",
          "text": [
            "\u001b[2K     \u001b[90m━━━━━━━━━━━━━━━━━━━━━━━━━━━━━━━━━━━━━━━━\u001b[0m \u001b[32m320.6/320.6 kB\u001b[0m \u001b[31m5.0 MB/s\u001b[0m eta \u001b[36m0:00:00\u001b[0m\n",
            "\u001b[2K     \u001b[90m━━━━━━━━━━━━━━━━━━━━━━━━━━━━━━━━━━━━━━━━\u001b[0m \u001b[32m75.6/75.6 kB\u001b[0m \u001b[31m8.9 MB/s\u001b[0m eta \u001b[36m0:00:00\u001b[0m\n",
            "\u001b[2K     \u001b[90m━━━━━━━━━━━━━━━━━━━━━━━━━━━━━━━━━━━━━━━━\u001b[0m \u001b[32m77.9/77.9 kB\u001b[0m \u001b[31m8.6 MB/s\u001b[0m eta \u001b[36m0:00:00\u001b[0m\n",
            "\u001b[2K     \u001b[90m━━━━━━━━━━━━━━━━━━━━━━━━━━━━━━━━━━━━━━━━\u001b[0m \u001b[32m58.3/58.3 kB\u001b[0m \u001b[31m6.3 MB/s\u001b[0m eta \u001b[36m0:00:00\u001b[0m\n",
            "\u001b[?25h"
          ]
        }
      ]
    },
    {
      "cell_type": "code",
      "source": [
        "from openai import OpenAI\n",
        "import os"
      ],
      "metadata": {
        "id": "iRFIrAw6bqwF"
      },
      "execution_count": null,
      "outputs": []
    },
    {
      "cell_type": "code",
      "source": [
        "model = \"gpt-4o\""
      ],
      "metadata": {
        "id": "BZiZfO6BdQRM"
      },
      "execution_count": null,
      "outputs": []
    },
    {
      "cell_type": "code",
      "source": [
        "client = OpenAI(api_key=openai_api_key)"
      ],
      "metadata": {
        "id": "3vrgjqSredsl"
      },
      "execution_count": null,
      "outputs": []
    },
    {
      "cell_type": "code",
      "source": [
        "completion = client.chat.completions.create(\n",
        "    model=model,\n",
        "    messages=[\n",
        "        {\n",
        "            \"role\":\"system\",\n",
        "            \"content\": \"You are a hlepful assistant, Help me wih my homework\"\n",
        "        },\n",
        "        {\n",
        "            \"role\" : \"user\",\n",
        "            \"content\": \"could you solve 2 +2?\"\n",
        "        }\n",
        "\n",
        "    ]\n",
        ")"
      ],
      "metadata": {
        "id": "PZR63ukkelPH"
      },
      "execution_count": null,
      "outputs": []
    },
    {
      "cell_type": "code",
      "source": [
        "completion"
      ],
      "metadata": {
        "colab": {
          "base_uri": "https://localhost:8080/"
        },
        "id": "bcubbW8ve-Mg",
        "outputId": "ba8ed4ee-4aba-458b-bbdc-1b625ffc0a0a"
      },
      "execution_count": null,
      "outputs": [
        {
          "output_type": "execute_result",
          "data": {
            "text/plain": [
              "ChatCompletion(id='chatcmpl-9PvAh21cRbs4dcrAWP8yxf2uSkQt5', choices=[Choice(finish_reason='stop', index=0, logprobs=None, message=ChatCompletionMessage(content='Sure, \\\\( 2 + 2 = 4 \\\\). If you have any more questions or need further assistance, feel free to ask!', role='assistant', function_call=None, tool_calls=None))], created=1715964995, model='gpt-4o-2024-05-13', object='chat.completion', system_fingerprint='fp_729ea513f7', usage=CompletionUsage(completion_tokens=29, prompt_tokens=33, total_tokens=62))"
            ]
          },
          "metadata": {},
          "execution_count": 16
        }
      ]
    },
    {
      "cell_type": "code",
      "source": [
        "print(completion.choices[0].message.content)"
      ],
      "metadata": {
        "colab": {
          "base_uri": "https://localhost:8080/"
        },
        "id": "Si6g7E75e_yd",
        "outputId": "f118bba4-75f2-4de6-bfa4-8ec296962f29"
      },
      "execution_count": null,
      "outputs": [
        {
          "output_type": "stream",
          "name": "stdout",
          "text": [
            "Sure, \\( 2 + 2 = 4 \\). If you have any more questions or need further assistance, feel free to ask!\n"
          ]
        }
      ]
    },
    {
      "cell_type": "code",
      "source": [
        "from IPython.display import Image, display, Audio, Markdown\n",
        "import base64"
      ],
      "metadata": {
        "id": "vGap0IozfGkj"
      },
      "execution_count": null,
      "outputs": []
    },
    {
      "cell_type": "code",
      "source": [
        "Image_path = \"triangle.png\""
      ],
      "metadata": {
        "id": "nte7pcR5fS-g"
      },
      "execution_count": null,
      "outputs": []
    },
    {
      "cell_type": "code",
      "source": [
        "display(Image(Image_path))"
      ],
      "metadata": {
        "colab": {
          "base_uri": "https://localhost:8080/",
          "height": 301
        },
        "id": "aYXx9gj1fVcH",
        "outputId": "2e2a726a-dd91-4832-e168-c7d0d59c7d1a"
      },
      "execution_count": null,
      "outputs": [
        {
          "output_type": "display_data",
          "data": {
            "image/png": "[encoded data removed]",
            "text/plain": [
              "<IPython.core.display.Image object>"
            ]
          },
          "metadata": {}
        }
      ]
    },
    {
      "cell_type": "code",
      "source": [
        "def encode_image(image_path):\n",
        "  with open(image_path, \"rb\") as image_file:\n",
        "    return base64.b64encode(image_file.read()).decode(\"utf-8\")"
      ],
      "metadata": {
        "id": "gY2etAhEfYii"
      },
      "execution_count": null,
      "outputs": []
    },
    {
      "cell_type": "code",
      "source": [
        "base64_image = encode_image(Image_path)"
      ],
      "metadata": {
        "id": "-NENb2nZfrYi"
      },
      "execution_count": null,
      "outputs": []
    },
    {
      "cell_type": "code",
      "source": [
        "response = client.chat.completions.create(\n",
        "    model=model,\n",
        "    messages = [{\n",
        "        \"role\": \"system\",\n",
        "        \"content\": \"You are a helpful assistant that responds Markdown, Help me with math homework\"\n",
        "\n",
        "    },\n",
        "     {\n",
        "         \"role\": \"user\",\n",
        "         \"content\" :[\n",
        "             {\n",
        "                 \"type\": \"text\", \"text\": \"What is the area of the triangle?\"\n",
        "             },\n",
        "             {\n",
        "                 \"type\": \"image_url\",\n",
        "                 \"image_url\": { \"url\" : f\"data:image/png:base64,{base64_image}\"}\n",
        "             }\n",
        "         ]\n",
        "     }\n",
        "\n",
        "                ],\n",
        "    temperature=0.0\n",
        "\n",
        "\n",
        ")"
      ],
      "metadata": {
        "id": "8SuYbvr-fwzh"
      },
      "execution_count": null,
      "outputs": []
    },
    {
      "cell_type": "code",
      "source": [
        "print(response.choices[0].message.content)"
      ],
      "metadata": {
        "colab": {
          "base_uri": "https://localhost:8080/"
        },
        "id": "9PDTg0h_gk_9",
        "outputId": "f3e88a39-8b8d-47c4-b2c0-4c46259f47ec"
      },
      "execution_count": null,
      "outputs": [
        {
          "output_type": "stream",
          "name": "stdout",
          "text": [
            "To find the area of the triangle, we can use Heron's formula. Heron's formula states that the area of a triangle with sides of length \\(a\\), \\(b\\), and \\(c\\) is:\n",
            "\n",
            "\\[ \\text{Area} = \\sqrt{s(s-a)(s-b)(s-c)} \\]\n",
            "\n",
            "where \\(s\\) is the semi-perimeter of the triangle:\n",
            "\n",
            "\\[ s = \\frac{a + b + c}{2} \\]\n",
            "\n",
            "In this triangle, the sides are \\(a = 6\\), \\(b = 5\\), and \\(c = 9\\).\n",
            "\n",
            "First, calculate the semi-perimeter \\(s\\):\n",
            "\n",
            "\\[ s = \\frac{6 + 5 + 9}{2} = \\frac{20}{2} = 10 \\]\n",
            "\n",
            "Now, apply Heron's formula:\n",
            "\n",
            "\\[ \\text{Area} = \\sqrt{10(10-6)(10-5)(10-9)} \\]\n",
            "\\[ \\text{Area} = \\sqrt{10 \\cdot 4 \\cdot 5 \\cdot 1} \\]\n",
            "\\[ \\text{Area} = \\sqrt{200} \\]\n",
            "\\[ \\text{Area} = 10\\sqrt{2} \\]\n",
            "\n",
            "So, the area of the triangle is \\(10\\sqrt{2}\\) square units.\n"
          ]
        }
      ]
    },
    {
      "cell_type": "code",
      "source": [],
      "metadata": {
        "id": "SzofgqoYgyS1"
      },
      "execution_count": null,
      "outputs": []
    }
  ]
}